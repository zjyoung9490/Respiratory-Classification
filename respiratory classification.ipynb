{
 "cells": [
  {
   "cell_type": "code",
   "execution_count": 4,
   "metadata": {},
   "outputs": [
    {
     "name": "stderr",
     "output_type": "stream",
     "text": [
      "Using TensorFlow backend.\n"
     ]
    }
   ],
   "source": [
    "# Pandas\n",
    "import pandas as pd\n",
    "\n",
    "# Scikit learn\n",
    "from sklearn import metrics\n",
    "from sklearn.model_selection import train_test_split\n",
    "from sklearn.metrics import classification_report, accuracy_score, confusion_matrix\n",
    "from sklearn.preprocessing import LabelEncoder\n",
    "from sklearn.utils import shuffle, resample\n",
    "from sklearn.utils import class_weight\n",
    "from sklearn.model_selection import cross_val_score\n",
    "\n",
    "# Keras\n",
    "import keras\n",
    "from keras.models import Sequential\n",
    "from keras.layers import Dense, Dropout, Activation, Flatten, LSTM\n",
    "from keras.layers import Convolution2D, Conv2D, MaxPooling2D, GlobalAveragePooling2D\n",
    "from keras.utils import to_categorical, np_utils\n",
    "from keras.optimizers import Adam, RMSprop\n",
    "from keras.callbacks import EarlyStopping,ReduceLROnPlateau,ModelCheckpoint,TensorBoard,ProgbarLogger\n",
    "\n",
    "# Audio\n",
    "import librosa\n",
    "import librosa.display\n",
    "import wave\n",
    "import IPython.display as ipd\n",
    "\n",
    "# Plot\n",
    "import matplotlib.pyplot as plt\n",
    "import seaborn as sns\n",
    "\n",
    "# Utility\n",
    "import os\n",
    "from glob import glob\n",
    "import numpy as np\n",
    "from tqdm import tqdm\n",
    "import itertools\n",
    "import numpy as np\n",
    "from scipy.io import wavfile\n",
    "import fnmatch"
   ]
  },
  {
   "cell_type": "code",
   "execution_count": 24,
   "metadata": {},
   "outputs": [],
   "source": [
    "demographics = pd.read_csv('./Documents/respiratory-sound-database/demographic_info.txt', names = ['Patient number', 'Age', 'Sex' , 'Adult BMI (kg/m2)', 'Child Weight (kg)' , 'Child Height (cm)'], delimiter = ' ')\n",
    "\n",
    "diagnosis = pd.read_csv('./Documents/respiratory-sound-database/patient_diagnosis.csv', names = ['Patient number', 'Diagnosis'])"
   ]
  },
  {
   "cell_type": "code",
   "execution_count": 30,
   "metadata": {},
   "outputs": [
    {
     "name": "stdout",
     "output_type": "stream",
     "text": [
      "COPD              64\n",
      "Healthy           26\n",
      "URTI              14\n",
      "Bronchiectasis     7\n",
      "Pneumonia          6\n",
      "Bronchiolitis      6\n",
      "LRTI               2\n",
      "Asthma             1\n",
      "Name: Diagnosis, dtype: int64\n"
     ]
    },
    {
     "data": {
      "text/plain": [
       "<matplotlib.axes._subplots.AxesSubplot at 0x1c627c95208>"
      ]
     },
     "execution_count": 30,
     "metadata": {},
     "output_type": "execute_result"
    },
    {
     "data": {
      "image/png": "[encoded data removed]",
      "text/plain": [
       "<Figure size 432x288 with 1 Axes>"
      ]
     },
     "metadata": {
      "needs_background": "light"
     },
     "output_type": "display_data"
    }
   ],
   "source": [
    "df = demographics.join(diagnosis.set_index('Patient number'), on = 'Patient number', how = 'left')\n",
    "df['Patient_ID'] = df['Patient number']\n",
    "print(df['Diagnosis'].value_counts())\n",
    "\n",
    "df['Diagnosis'].value_counts().plot.bar(title = \"Patient Diagnosis\")"
   ]
  },
  {
   "cell_type": "code",
   "execution_count": 40,
   "metadata": {},
   "outputs": [
    {
     "name": "stdout",
     "output_type": "stream",
     "text": [
      "M    79\n",
      "F    46\n",
      "Name: Sex, dtype: int64\n"
     ]
    },
    {
     "data": {
      "text/plain": [
       "<matplotlib.axes._subplots.AxesSubplot at 0x1c627f5c9b0>"
      ]
     },
     "execution_count": 40,
     "metadata": {},
     "output_type": "execute_result"
    },
    {
     "data": {
      "image/png": "[encoded data removed]",
      "text/plain": [
       "<Figure size 432x288 with 1 Axes>"
      ]
     },
     "metadata": {
      "needs_background": "light"
     },
     "output_type": "display_data"
    }
   ],
   "source": [
    "print(df['Sex'].value_counts())\n",
    "\n",
    "df['Sex'].value_counts().plot.bar(title = \"Patient Gender\")"
   ]
  },
  {
   "cell_type": "code",
   "execution_count": 36,
   "metadata": {},
   "outputs": [
    {
     "name": "stdout",
     "output_type": "stream",
     "text": [
      "Average age: 42.99264 years\n",
      "Youngest patient: 0.25 years\n",
      "Oldest patient: 93.0 years\n"
     ]
    },
    {
     "ename": "ValueError",
     "evalue": "cannot convert float NaN to integer",
     "output_type": "error",
     "traceback": [
      "\u001b[1;31m---------------------------------------------------------------------------\u001b[0m",
      "\u001b[1;31mValueError\u001b[0m                                Traceback (most recent call last)",
      "\u001b[1;32m<ipython-input-36-54dbbbf0dd95>\u001b[0m in \u001b[0;36m<module>\u001b[1;34m\u001b[0m\n\u001b[0;32m      4\u001b[0m \u001b[0mprint\u001b[0m\u001b[1;33m(\u001b[0m\u001b[1;34m\"Oldest patient:\"\u001b[0m\u001b[1;33m,\u001b[0m \u001b[0mnp\u001b[0m\u001b[1;33m.\u001b[0m\u001b[0mmax\u001b[0m\u001b[1;33m(\u001b[0m\u001b[0mdf\u001b[0m\u001b[1;33m[\u001b[0m\u001b[1;34m'Age'\u001b[0m\u001b[1;33m]\u001b[0m\u001b[1;33m)\u001b[0m\u001b[1;33m,\u001b[0m \u001b[1;34m\"years\"\u001b[0m\u001b[1;33m)\u001b[0m\u001b[1;33m\u001b[0m\u001b[1;33m\u001b[0m\u001b[0m\n\u001b[0;32m      5\u001b[0m \u001b[1;33m\u001b[0m\u001b[0m\n\u001b[1;32m----> 6\u001b[1;33m \u001b[0msns\u001b[0m\u001b[1;33m.\u001b[0m\u001b[0mdistplot\u001b[0m\u001b[1;33m(\u001b[0m\u001b[0mdf\u001b[0m\u001b[1;33m[\u001b[0m\u001b[1;34m'Age'\u001b[0m\u001b[1;33m]\u001b[0m\u001b[1;33m)\u001b[0m\u001b[1;33m\u001b[0m\u001b[1;33m\u001b[0m\u001b[0m\n\u001b[0m",
      "\u001b[1;32m~\\Anaconda3\\lib\\site-packages\\seaborn\\distributions.py\u001b[0m in \u001b[0;36mdistplot\u001b[1;34m(a, bins, hist, kde, rug, fit, hist_kws, kde_kws, rug_kws, fit_kws, color, vertical, norm_hist, axlabel, label, ax)\u001b[0m\n\u001b[0;32m    213\u001b[0m     \u001b[1;32mif\u001b[0m \u001b[0mhist\u001b[0m\u001b[1;33m:\u001b[0m\u001b[1;33m\u001b[0m\u001b[1;33m\u001b[0m\u001b[0m\n\u001b[0;32m    214\u001b[0m         \u001b[1;32mif\u001b[0m \u001b[0mbins\u001b[0m \u001b[1;32mis\u001b[0m \u001b[1;32mNone\u001b[0m\u001b[1;33m:\u001b[0m\u001b[1;33m\u001b[0m\u001b[1;33m\u001b[0m\u001b[0m\n\u001b[1;32m--> 215\u001b[1;33m             \u001b[0mbins\u001b[0m \u001b[1;33m=\u001b[0m \u001b[0mmin\u001b[0m\u001b[1;33m(\u001b[0m\u001b[0m_freedman_diaconis_bins\u001b[0m\u001b[1;33m(\u001b[0m\u001b[0ma\u001b[0m\u001b[1;33m)\u001b[0m\u001b[1;33m,\u001b[0m \u001b[1;36m50\u001b[0m\u001b[1;33m)\u001b[0m\u001b[1;33m\u001b[0m\u001b[1;33m\u001b[0m\u001b[0m\n\u001b[0m\u001b[0;32m    216\u001b[0m         \u001b[0mhist_kws\u001b[0m\u001b[1;33m.\u001b[0m\u001b[0msetdefault\u001b[0m\u001b[1;33m(\u001b[0m\u001b[1;34m\"alpha\"\u001b[0m\u001b[1;33m,\u001b[0m \u001b[1;36m0.4\u001b[0m\u001b[1;33m)\u001b[0m\u001b[1;33m\u001b[0m\u001b[1;33m\u001b[0m\u001b[0m\n\u001b[0;32m    217\u001b[0m         \u001b[1;32mif\u001b[0m \u001b[0mLooseVersion\u001b[0m\u001b[1;33m(\u001b[0m\u001b[0mmpl\u001b[0m\u001b[1;33m.\u001b[0m\u001b[0m__version__\u001b[0m\u001b[1;33m)\u001b[0m \u001b[1;33m<\u001b[0m \u001b[0mLooseVersion\u001b[0m\u001b[1;33m(\u001b[0m\u001b[1;34m\"2.2\"\u001b[0m\u001b[1;33m)\u001b[0m\u001b[1;33m:\u001b[0m\u001b[1;33m\u001b[0m\u001b[1;33m\u001b[0m\u001b[0m\n",
      "\u001b[1;32m~\\Anaconda3\\lib\\site-packages\\seaborn\\distributions.py\u001b[0m in \u001b[0;36m_freedman_diaconis_bins\u001b[1;34m(a)\u001b[0m\n\u001b[0;32m     37\u001b[0m         \u001b[1;32mreturn\u001b[0m \u001b[0mint\u001b[0m\u001b[1;33m(\u001b[0m\u001b[0mnp\u001b[0m\u001b[1;33m.\u001b[0m\u001b[0msqrt\u001b[0m\u001b[1;33m(\u001b[0m\u001b[0ma\u001b[0m\u001b[1;33m.\u001b[0m\u001b[0msize\u001b[0m\u001b[1;33m)\u001b[0m\u001b[1;33m)\u001b[0m\u001b[1;33m\u001b[0m\u001b[1;33m\u001b[0m\u001b[0m\n\u001b[0;32m     38\u001b[0m     \u001b[1;32melse\u001b[0m\u001b[1;33m:\u001b[0m\u001b[1;33m\u001b[0m\u001b[1;33m\u001b[0m\u001b[0m\n\u001b[1;32m---> 39\u001b[1;33m         \u001b[1;32mreturn\u001b[0m \u001b[0mint\u001b[0m\u001b[1;33m(\u001b[0m\u001b[0mnp\u001b[0m\u001b[1;33m.\u001b[0m\u001b[0mceil\u001b[0m\u001b[1;33m(\u001b[0m\u001b[1;33m(\u001b[0m\u001b[0ma\u001b[0m\u001b[1;33m.\u001b[0m\u001b[0mmax\u001b[0m\u001b[1;33m(\u001b[0m\u001b[1;33m)\u001b[0m \u001b[1;33m-\u001b[0m \u001b[0ma\u001b[0m\u001b[1;33m.\u001b[0m\u001b[0mmin\u001b[0m\u001b[1;33m(\u001b[0m\u001b[1;33m)\u001b[0m\u001b[1;33m)\u001b[0m \u001b[1;33m/\u001b[0m \u001b[0mh\u001b[0m\u001b[1;33m)\u001b[0m\u001b[1;33m)\u001b[0m\u001b[1;33m\u001b[0m\u001b[1;33m\u001b[0m\u001b[0m\n\u001b[0m\u001b[0;32m     40\u001b[0m \u001b[1;33m\u001b[0m\u001b[0m\n\u001b[0;32m     41\u001b[0m \u001b[1;33m\u001b[0m\u001b[0m\n",
      "\u001b[1;31mValueError\u001b[0m: cannot convert float NaN to integer"
     ]
    },
    {
     "data": {
      "image/png": "[encoded data removed]",
      "text/plain": [
       "<Figure size 432x288 with 1 Axes>"
      ]
     },
     "metadata": {
      "needs_background": "light"
     },
     "output_type": "display_data"
    }
   ],
   "source": [
    "# Time Distribution\n",
    "print(\"Average age:\", np.mean(df['Age']), \"years\")\n",
    "print(\"Youngest patient:\", np.min(df['Age']), \"years\")\n",
    "print(\"Oldest patient:\", np.max(df['Age']), \"years\")\n",
    "\n",
    "sns.distplot(df['Age'])"
   ]
  },
  {
   "cell_type": "code",
   "execution_count": 2,
   "metadata": {},
   "outputs": [],
   "source": [
    "from datetime import datetime\n",
    "from os import listdir\n",
    "from os.path import isfile, join\n",
    "\n",
    "mypath = \"./Documents/respiratory-sound-database/Respiratory_Sound_Database/Respiratory_Sound_Database/audio_and_txt_files/\"\n",
    "filenames = [f for f in listdir(mypath) if (isfile(join(mypath, f)) and f.endswith('.wav'))]"
   ]
  },
  {
   "cell_type": "code",
   "execution_count": 5,
   "metadata": {},
   "outputs": [],
   "source": [
    "patient_id = [] # patient IDs corresponding to each file\n",
    "for name in filenames:\n",
    "    patient_id.append(int(name[:3])) "
   ]
  },
  {
   "cell_type": "code",
   "execution_count": 8,
   "metadata": {},
   "outputs": [],
   "source": [
    "#Create artifact dataframe\n",
    "sounds = pd.DataFrame()\n",
    "sounds['Patient_ID'] = np.asarray(patient_id)"
   ]
  },
  {
   "cell_type": "code",
   "execution_count": 10,
   "metadata": {},
   "outputs": [
    {
     "name": "stdout",
     "output_type": "stream",
     "text": [
      "<class 'pandas.core.frame.DataFrame'>\n",
      "RangeIndex: 920 entries, 0 to 919\n",
      "Data columns (total 1 columns):\n",
      "Patient_ID    920 non-null int32\n",
      "dtypes: int32(1)\n",
      "memory usage: 3.7 KB\n"
     ]
    }
   ],
   "source": [
    "sounds.head()"
   ]
  },
  {
   "cell_type": "code",
   "execution_count": 11,
   "metadata": {},
   "outputs": [],
   "source": [
    "#Function to get audio duration for each file\n",
    "def get_recording_times(audio_files):\n",
    "    data = []\n",
    "    for file in audio_files:\n",
    "        y, sr = librosa.load(file, res_type='kaiser_fast')\n",
    "        dur = librosa.get_duration(y)\n",
    "        data.append(dur)\n",
    "    return data"
   ]
  },
  {
   "cell_type": "code",
   "execution_count": 12,
   "metadata": {},
   "outputs": [],
   "source": [
    "#Function to get mel-frequency cepstral coefficient data for each file\n",
    "def get_mfcc(audio_files):\n",
    "    data = []\n",
    "    for file in audio_files:\n",
    "        y, sr = librosa.load(file, res_type='kaiser_fast')\n",
    "        mfccs = librosa.feature.mfcc(y=y, sr=sr, n_mfcc=40) #sr = set of values at a point in time and/or space\n",
    "        data.append(mfccs)\n",
    "    return data"
   ]
  },
  {
   "cell_type": "code",
   "execution_count": 13,
   "metadata": {},
   "outputs": [],
   "source": [
    "#Function to get mean mfccs for each file with a fix padding, may also chop off some file\n",
    "def load_file_mfcc (folder,file_names, duration=10, sr=16000):\n",
    "    input_length=sr*duration\n",
    "    data = []\n",
    "    for file_name in file_names:\n",
    "        try:\n",
    "            sound_file=folder+file_name\n",
    "            X, sr = librosa.load( sound_file, sr=sr, duration=duration,res_type='kaiser_fast') \n",
    "            dur = librosa.get_duration(y=X, sr=sr)\n",
    "            # pad audio file same duration\n",
    "            if (round(dur) < duration):\n",
    "                y = librosa.util.fix_length(X, input_length)\n",
    "            mfccs = np.mean(librosa.feature.mfcc(y=X, sr=sr, n_mfcc=40).T,axis=0)             \n",
    "        except Exception as e:\n",
    "            print(\"Error encountered while parsing file: \", file)        \n",
    "        feature = np.array(mfccs).reshape([-1,1])\n",
    "        data.append(feature)\n",
    "    return data"
   ]
  },
  {
   "cell_type": "code",
   "execution_count": 14,
   "metadata": {},
   "outputs": [],
   "source": [
    "#Function to get spectrogram data for each file with a fix padding, may also chop off some file\n",
    "def load_file_spec (folder,file_names, duration=10, sr=16000):\n",
    "    input_length=sr*duration\n",
    "    data = []\n",
    "    for file_name in file_names:\n",
    "        try:\n",
    "            sound_file=folder+file_name\n",
    "            X, sr = librosa.load( sound_file, sr=sr, duration=duration,res_type='kaiser_fast') \n",
    "            dur = librosa.get_duration(y=X, sr=sr)\n",
    "            # pad audio file same duration\n",
    "            if (round(dur) < duration):\n",
    "                y = librosa.util.fix_length(X, input_length)  \n",
    "            spec_features = np.mean(librosa.amplitude_to_db(abs(librosa.stft(y)).T), axis=0)\n",
    "        except Exception as e:\n",
    "            print(\"Error encountered while parsing file: \", file_name) \n",
    "        data.append(spec_features)\n",
    "    return data"
   ]
  },
  {
   "cell_type": "code",
   "execution_count": 15,
   "metadata": {},
   "outputs": [],
   "source": [
    "# Function to flatten out spectrogram and mfcc data\n",
    "# This is used to easily separate out that data into individual columns that will be used for supervised learning\n",
    "def flat_(file):\n",
    "    data=[]\n",
    "    for x in file:\n",
    "        flat = x.flatten()\n",
    "        data.append(flat)\n",
    "    return data"
   ]
  },
  {
   "cell_type": "code",
   "execution_count": 17,
   "metadata": {},
   "outputs": [
    {
     "name": "stdout",
     "output_type": "stream",
     "text": [
      "Number of audio files: 920\n"
     ]
    }
   ],
   "source": [
    "data = './Documents/audio_and_txt_files'\n",
    "audio_files = glob(data + '/*.wav')\n",
    "print(\"Number of audio files:\", len(audio_files))"
   ]
  },
  {
   "cell_type": "code",
   "execution_count": 18,
   "metadata": {},
   "outputs": [],
   "source": [
    "sounds['duration'] = np.asarray(get_recording_times(audio_files))"
   ]
  },
  {
   "cell_type": "code",
   "execution_count": 23,
   "metadata": {},
   "outputs": [],
   "source": [
    "# parent folder of sound files\n",
    "INPUT_DIR = \"./Documents\"\n",
    "# 16 KHz\n",
    "SAMPLE_RATE = 16000\n",
    "# seconds\n",
    "MAX_SOUND_CLIP_DURATION = 25\n",
    "\n",
    "folder = INPUT_DIR+'/audio_and_txt_files/'\n",
    "\n",
    "files = fnmatch.filter(os.listdir(INPUT_DIR+'/audio_and_txt_files/'), '*.wav')\n",
    "sounds_spec = load_file_spec(folder=folder, file_names=files, duration=MAX_SOUND_CLIP_DURATION)\n",
    "\n",
    "sounds['spec'] = sounds_spec"
   ]
  },
  {
   "cell_type": "code",
   "execution_count": 27,
   "metadata": {},
   "outputs": [
    {
     "data": {
      "text/html": [
       "<div>\n",
       "<style scoped>\n",
       "    .dataframe tbody tr th:only-of-type {\n",
       "        vertical-align: middle;\n",
       "    }\n",
       "\n",
       "    .dataframe tbody tr th {\n",
       "        vertical-align: top;\n",
       "    }\n",
       "\n",
       "    .dataframe thead th {\n",
       "        text-align: right;\n",
       "    }\n",
       "</style>\n",
       "<table border=\"1\" class=\"dataframe\">\n",
       "  <thead>\n",
       "    <tr style=\"text-align: right;\">\n",
       "      <th></th>\n",
       "      <th>Patient_ID</th>\n",
       "      <th>duration</th>\n",
       "      <th>spec</th>\n",
       "      <th>mean_mfccs</th>\n",
       "      <th>mfccs_flat</th>\n",
       "    </tr>\n",
       "  </thead>\n",
       "  <tbody>\n",
       "    <tr>\n",
       "      <th>0</th>\n",
       "      <td>101</td>\n",
       "      <td>20.000000</td>\n",
       "      <td>[8.123447, 12.025115, 11.816886, 8.981364, 5.7...</td>\n",
       "      <td>[[-515.6783], [113.95837], [71.15942], [42.378...</td>\n",
       "      <td>[-515.6783, 113.95837, 71.15942, 42.37833, 33....</td>\n",
       "    </tr>\n",
       "    <tr>\n",
       "      <th>1</th>\n",
       "      <td>101</td>\n",
       "      <td>20.000000</td>\n",
       "      <td>[5.7625904, 9.9406595, 8.972795, 5.579129, 3.6...</td>\n",
       "      <td>[[-572.6958], [103.28494], [56.087303], [30.84...</td>\n",
       "      <td>[-572.6958, 103.28494, 56.087303, 30.842743, 3...</td>\n",
       "    </tr>\n",
       "    <tr>\n",
       "      <th>2</th>\n",
       "      <td>102</td>\n",
       "      <td>20.000000</td>\n",
       "      <td>[3.959942, 6.6757374, 4.303745, 0.14441894, -2...</td>\n",
       "      <td>[[-580.9747], [121.591965], [56.966473], [25.9...</td>\n",
       "      <td>[-580.9747, 121.591965, 56.966473, 25.95974, 3...</td>\n",
       "    </tr>\n",
       "    <tr>\n",
       "      <th>3</th>\n",
       "      <td>103</td>\n",
       "      <td>20.000000</td>\n",
       "      <td>[23.06911, 29.05004, 26.390932, 17.75523, 12.2...</td>\n",
       "      <td>[[-408.96204], [71.44204], [48.838448], [34.06...</td>\n",
       "      <td>[-408.96204, 71.44204, 48.838448, 34.060986, 3...</td>\n",
       "    </tr>\n",
       "    <tr>\n",
       "      <th>4</th>\n",
       "      <td>104</td>\n",
       "      <td>15.856009</td>\n",
       "      <td>[1.8390962, 3.4313285, 4.312777, 4.5215893, 3....</td>\n",
       "      <td>[[-436.71918], [116.14284], [77.762695], [38.0...</td>\n",
       "      <td>[-436.71918, 116.14284, 77.762695, 38.06044, 1...</td>\n",
       "    </tr>\n",
       "  </tbody>\n",
       "</table>\n",
       "</div>"
      ],
      "text/plain": [
       "   Patient_ID   duration                                               spec  \\\n",
       "0         101  20.000000  [8.123447, 12.025115, 11.816886, 8.981364, 5.7...   \n",
       "1         101  20.000000  [5.7625904, 9.9406595, 8.972795, 5.579129, 3.6...   \n",
       "2         102  20.000000  [3.959942, 6.6757374, 4.303745, 0.14441894, -2...   \n",
       "3         103  20.000000  [23.06911, 29.05004, 26.390932, 17.75523, 12.2...   \n",
       "4         104  15.856009  [1.8390962, 3.4313285, 4.312777, 4.5215893, 3....   \n",
       "\n",
       "                                          mean_mfccs  \\\n",
       "0  [[-515.6783], [113.95837], [71.15942], [42.378...   \n",
       "1  [[-572.6958], [103.28494], [56.087303], [30.84...   \n",
       "2  [[-580.9747], [121.591965], [56.966473], [25.9...   \n",
       "3  [[-408.96204], [71.44204], [48.838448], [34.06...   \n",
       "4  [[-436.71918], [116.14284], [77.762695], [38.0...   \n",
       "\n",
       "                                          mfccs_flat  \n",
       "0  [-515.6783, 113.95837, 71.15942, 42.37833, 33....  \n",
       "1  [-572.6958, 103.28494, 56.087303, 30.842743, 3...  \n",
       "2  [-580.9747, 121.591965, 56.966473, 25.95974, 3...  \n",
       "3  [-408.96204, 71.44204, 48.838448, 34.060986, 3...  \n",
       "4  [-436.71918, 116.14284, 77.762695, 38.06044, 1...  "
      ]
     },
     "execution_count": 27,
     "metadata": {},
     "output_type": "execute_result"
    }
   ],
   "source": [
    "files = fnmatch.filter(os.listdir(INPUT_DIR+'/audio_and_txt_files/'), '*.wav')\n",
    "sounds_mfcc = load_file_mfcc(folder=folder, file_names=files, duration=MAX_SOUND_CLIP_DURATION)\n",
    "\n",
    "sounds['mean_mfccs'] = sounds_mfcc\n",
    "sounds['mfccs_flat'] = flat_(sounds_mfcc)\n",
    "sounds.head()"
   ]
  },
  {
   "cell_type": "code",
   "execution_count": 31,
   "metadata": {},
   "outputs": [],
   "source": [
    "final = sounds.join(df.set_index('Patient_ID'), on = 'Patient_ID', how = 'left')"
   ]
  },
  {
   "cell_type": "code",
   "execution_count": 37,
   "metadata": {},
   "outputs": [
    {
     "data": {
      "text/html": [
       "<div>\n",
       "<style scoped>\n",
       "    .dataframe tbody tr th:only-of-type {\n",
       "        vertical-align: middle;\n",
       "    }\n",
       "\n",
       "    .dataframe tbody tr th {\n",
       "        vertical-align: top;\n",
       "    }\n",
       "\n",
       "    .dataframe thead th {\n",
       "        text-align: right;\n",
       "    }\n",
       "</style>\n",
       "<table border=\"1\" class=\"dataframe\">\n",
       "  <thead>\n",
       "    <tr style=\"text-align: right;\">\n",
       "      <th></th>\n",
       "      <th>Patient_ID</th>\n",
       "      <th>duration</th>\n",
       "      <th>spec</th>\n",
       "      <th>mean_mfccs</th>\n",
       "      <th>mfccs_flat</th>\n",
       "      <th>Patient number</th>\n",
       "      <th>Age</th>\n",
       "      <th>Sex</th>\n",
       "      <th>Adult BMI (kg/m2)</th>\n",
       "      <th>Child Weight (kg)</th>\n",
       "      <th>Child Height (cm)</th>\n",
       "      <th>Diagnosis</th>\n",
       "    </tr>\n",
       "  </thead>\n",
       "  <tbody>\n",
       "    <tr>\n",
       "      <th>0</th>\n",
       "      <td>101</td>\n",
       "      <td>20.000000</td>\n",
       "      <td>[8.123447, 12.025115, 11.816886, 8.981364, 5.7...</td>\n",
       "      <td>[[-515.6783], [113.95837], [71.15942], [42.378...</td>\n",
       "      <td>[-515.6783, 113.95837, 71.15942, 42.37833, 33....</td>\n",
       "      <td>101</td>\n",
       "      <td>3.00</td>\n",
       "      <td>F</td>\n",
       "      <td>NaN</td>\n",
       "      <td>19.0</td>\n",
       "      <td>99.0</td>\n",
       "      <td>URTI</td>\n",
       "    </tr>\n",
       "    <tr>\n",
       "      <th>1</th>\n",
       "      <td>101</td>\n",
       "      <td>20.000000</td>\n",
       "      <td>[5.7625904, 9.9406595, 8.972795, 5.579129, 3.6...</td>\n",
       "      <td>[[-572.6958], [103.28494], [56.087303], [30.84...</td>\n",
       "      <td>[-572.6958, 103.28494, 56.087303, 30.842743, 3...</td>\n",
       "      <td>101</td>\n",
       "      <td>3.00</td>\n",
       "      <td>F</td>\n",
       "      <td>NaN</td>\n",
       "      <td>19.0</td>\n",
       "      <td>99.0</td>\n",
       "      <td>URTI</td>\n",
       "    </tr>\n",
       "    <tr>\n",
       "      <th>2</th>\n",
       "      <td>102</td>\n",
       "      <td>20.000000</td>\n",
       "      <td>[3.959942, 6.6757374, 4.303745, 0.14441894, -2...</td>\n",
       "      <td>[[-580.9747], [121.591965], [56.966473], [25.9...</td>\n",
       "      <td>[-580.9747, 121.591965, 56.966473, 25.95974, 3...</td>\n",
       "      <td>102</td>\n",
       "      <td>0.75</td>\n",
       "      <td>F</td>\n",
       "      <td>NaN</td>\n",
       "      <td>9.8</td>\n",
       "      <td>73.0</td>\n",
       "      <td>Healthy</td>\n",
       "    </tr>\n",
       "    <tr>\n",
       "      <th>3</th>\n",
       "      <td>103</td>\n",
       "      <td>20.000000</td>\n",
       "      <td>[23.06911, 29.05004, 26.390932, 17.75523, 12.2...</td>\n",
       "      <td>[[-408.96204], [71.44204], [48.838448], [34.06...</td>\n",
       "      <td>[-408.96204, 71.44204, 48.838448, 34.060986, 3...</td>\n",
       "      <td>103</td>\n",
       "      <td>70.00</td>\n",
       "      <td>F</td>\n",
       "      <td>33.00</td>\n",
       "      <td>NaN</td>\n",
       "      <td>NaN</td>\n",
       "      <td>Asthma</td>\n",
       "    </tr>\n",
       "    <tr>\n",
       "      <th>4</th>\n",
       "      <td>104</td>\n",
       "      <td>15.856009</td>\n",
       "      <td>[1.8390962, 3.4313285, 4.312777, 4.5215893, 3....</td>\n",
       "      <td>[[-436.71918], [116.14284], [77.762695], [38.0...</td>\n",
       "      <td>[-436.71918, 116.14284, 77.762695, 38.06044, 1...</td>\n",
       "      <td>104</td>\n",
       "      <td>70.00</td>\n",
       "      <td>F</td>\n",
       "      <td>28.47</td>\n",
       "      <td>NaN</td>\n",
       "      <td>NaN</td>\n",
       "      <td>COPD</td>\n",
       "    </tr>\n",
       "  </tbody>\n",
       "</table>\n",
       "</div>"
      ],
      "text/plain": [
       "   Patient_ID   duration                                               spec  \\\n",
       "0         101  20.000000  [8.123447, 12.025115, 11.816886, 8.981364, 5.7...   \n",
       "1         101  20.000000  [5.7625904, 9.9406595, 8.972795, 5.579129, 3.6...   \n",
       "2         102  20.000000  [3.959942, 6.6757374, 4.303745, 0.14441894, -2...   \n",
       "3         103  20.000000  [23.06911, 29.05004, 26.390932, 17.75523, 12.2...   \n",
       "4         104  15.856009  [1.8390962, 3.4313285, 4.312777, 4.5215893, 3....   \n",
       "\n",
       "                                          mean_mfccs  \\\n",
       "0  [[-515.6783], [113.95837], [71.15942], [42.378...   \n",
       "1  [[-572.6958], [103.28494], [56.087303], [30.84...   \n",
       "2  [[-580.9747], [121.591965], [56.966473], [25.9...   \n",
       "3  [[-408.96204], [71.44204], [48.838448], [34.06...   \n",
       "4  [[-436.71918], [116.14284], [77.762695], [38.0...   \n",
       "\n",
       "                                          mfccs_flat  Patient number    Age  \\\n",
       "0  [-515.6783, 113.95837, 71.15942, 42.37833, 33....             101   3.00   \n",
       "1  [-572.6958, 103.28494, 56.087303, 30.842743, 3...             101   3.00   \n",
       "2  [-580.9747, 121.591965, 56.966473, 25.95974, 3...             102   0.75   \n",
       "3  [-408.96204, 71.44204, 48.838448, 34.060986, 3...             103  70.00   \n",
       "4  [-436.71918, 116.14284, 77.762695, 38.06044, 1...             104  70.00   \n",
       "\n",
       "  Sex  Adult BMI (kg/m2)  Child Weight (kg)  Child Height (cm) Diagnosis  \n",
       "0   F                NaN               19.0               99.0      URTI  \n",
       "1   F                NaN               19.0               99.0      URTI  \n",
       "2   F                NaN                9.8               73.0   Healthy  \n",
       "3   F              33.00                NaN                NaN    Asthma  \n",
       "4   F              28.47                NaN                NaN      COPD  "
      ]
     },
     "execution_count": 37,
     "metadata": {},
     "output_type": "execute_result"
    }
   ],
   "source": [
    "final.head()"
   ]
  },
  {
   "cell_type": "code",
   "execution_count": 35,
   "metadata": {},
   "outputs": [
    {
     "data": {
      "text/plain": [
       "COPD              793\n",
       "Pneumonia          37\n",
       "Healthy            35\n",
       "URTI               23\n",
       "Bronchiectasis     16\n",
       "Bronchiolitis      13\n",
       "LRTI                2\n",
       "Asthma              1\n",
       "Name: Diagnosis, dtype: int64"
      ]
     },
     "execution_count": 35,
     "metadata": {},
     "output_type": "execute_result"
    }
   ],
   "source": [
    "final.Diagnosis.value_counts()"
   ]
  },
  {
   "cell_type": "code",
   "execution_count": 26,
   "metadata": {},
   "outputs": [
    {
     "name": "stdout",
     "output_type": "stream",
     "text": [
      "Average recording time: 21.492426353149952 seconds\n",
      "Smallest recording time: 7.8560090702947845 seconds\n",
      "Longest recording time: 86.2 seconds\n"
     ]
    },
    {
     "data": {
      "text/plain": [
       "<matplotlib.axes._subplots.AxesSubplot at 0x1c625ebdb38>"
      ]
     },
     "execution_count": 26,
     "metadata": {},
     "output_type": "execute_result"
    },
    {
     "data": {
      "image/png": "[encoded data removed]",
      "text/plain": [
       "<Figure size 432x288 with 1 Axes>"
      ]
     },
     "metadata": {
      "needs_background": "light"
     },
     "output_type": "display_data"
    }
   ],
   "source": [
    "# Time Distribution\n",
    "print(\"Average recording time:\", np.mean(sounds['duration']), \"seconds\")\n",
    "print(\"Smallest recording time:\", np.min(sounds['duration']), \"seconds\")\n",
    "print(\"Longest recording time:\", np.max(sounds['duration']), \"seconds\")\n",
    "\n",
    "sns.distplot(sounds['duration'])"
   ]
  },
  {
   "cell_type": "code",
   "execution_count": null,
   "metadata": {},
   "outputs": [],
   "source": [
    "#Healthy\n",
    "ipd.Audio(audio_files[3])"
   ]
  },
  {
   "cell_type": "code",
   "execution_count": null,
   "metadata": {},
   "outputs": [],
   "source": [
    "#COPD\n",
    "ipd.Audio(audio_files[3])"
   ]
  },
  {
   "cell_type": "code",
   "execution_count": null,
   "metadata": {},
   "outputs": [],
   "source": [
    "#URTI\n",
    "ipd.Audio(audio_files[3])"
   ]
  },
  {
   "cell_type": "code",
   "execution_count": null,
   "metadata": {},
   "outputs": [],
   "source": [
    "#Pneumonia\n",
    "ipd.Audio(audio_files[3])"
   ]
  },
  {
   "cell_type": "code",
   "execution_count": null,
   "metadata": {},
   "outputs": [],
   "source": [
    "#waveplots\n",
    "# librosa plot -- set-a\n",
    "plt.figure(figsize=(16, 8))\n",
    "\n",
    "plt.subplot(3, 1, 1)\n",
    "y, sr = librosa.load(audio_files_a[9])\n",
    "librosa.display.waveplot(y, sr=sr)\n",
    "plt.title(\"Normal Heart\")\n",
    "\n",
    "plt.subplot(3, 1, 2)\n",
    "y, sr = librosa.load(audio_files_a[10])\n",
    "librosa.display.waveplot(y, sr=sr)\n",
    "plt.title(\"Abnormal Heart\")\n",
    "\n",
    "plt.subplot(3, 1, 3)\n",
    "y, sr = librosa.load(audio_files_artifacts[3])\n",
    "librosa.display.waveplot(y, sr=sr)\n",
    "plt.title(\"Artifact\")\n",
    "\n",
    "plt.tight_layout()\n",
    "plt.show()"
   ]
  },
  {
   "cell_type": "code",
   "execution_count": null,
   "metadata": {},
   "outputs": [],
   "source": [
    "# Spectrograms\n",
    "# librosa spectrogram plot -- set-a\n",
    "plt.figure(figsize=(20, 8))\n",
    "\n",
    "plt.subplot(3, 1, 1)\n",
    "y, sr = librosa.load(audio_files_a[9])\n",
    "D = librosa.amplitude_to_db(np.abs(librosa.stft(y)), ref=np.max)\n",
    "librosa.display.specshow(D, x_axis='time', y_axis='log')\n",
    "plt.title(\"Normal Heart Spectrogram\")\n",
    "\n",
    "plt.subplot(3, 1, 2)\n",
    "y, sr = librosa.load(audio_files_a[10])\n",
    "D = librosa.amplitude_to_db(np.abs(librosa.stft(y)), ref=np.max)\n",
    "librosa.display.specshow(D, x_axis='time', y_axis='log')\n",
    "plt.title(\"Abnormal Heart Spectrogram\")\n",
    "\n",
    "plt.subplot(3, 1, 3)\n",
    "y, sr = librosa.load(audio_files_artifacts[3])\n",
    "D = librosa.amplitude_to_db(np.abs(librosa.stft(y)), ref=np.max)\n",
    "librosa.display.specshow(D, x_axis='time', y_axis='log')\n",
    "plt.title(\"Artifact Spectrogram\")\n",
    "\n",
    "plt.tight_layout()\n",
    "plt.show()"
   ]
  },
  {
   "cell_type": "code",
   "execution_count": 41,
   "metadata": {},
   "outputs": [
    {
     "ename": "NameError",
     "evalue": "name 'audio_files_a' is not defined",
     "output_type": "error",
     "traceback": [
      "\u001b[1;31m---------------------------------------------------------------------------\u001b[0m",
      "\u001b[1;31mNameError\u001b[0m                                 Traceback (most recent call last)",
      "\u001b[1;32m<ipython-input-41-e7c2d38a16d0>\u001b[0m in \u001b[0;36m<module>\u001b[1;34m\u001b[0m\n\u001b[0;32m      3\u001b[0m \u001b[1;33m\u001b[0m\u001b[0m\n\u001b[0;32m      4\u001b[0m \u001b[0mplt\u001b[0m\u001b[1;33m.\u001b[0m\u001b[0msubplot\u001b[0m\u001b[1;33m(\u001b[0m\u001b[1;36m3\u001b[0m\u001b[1;33m,\u001b[0m \u001b[1;36m1\u001b[0m\u001b[1;33m,\u001b[0m \u001b[1;36m1\u001b[0m\u001b[1;33m)\u001b[0m\u001b[1;33m\u001b[0m\u001b[1;33m\u001b[0m\u001b[0m\n\u001b[1;32m----> 5\u001b[1;33m \u001b[0my\u001b[0m\u001b[1;33m,\u001b[0m \u001b[0msr\u001b[0m \u001b[1;33m=\u001b[0m \u001b[0mlibrosa\u001b[0m\u001b[1;33m.\u001b[0m\u001b[0mload\u001b[0m\u001b[1;33m(\u001b[0m\u001b[0maudio_files_a\u001b[0m\u001b[1;33m[\u001b[0m\u001b[1;36m9\u001b[0m\u001b[1;33m]\u001b[0m\u001b[1;33m)\u001b[0m\u001b[1;33m\u001b[0m\u001b[1;33m\u001b[0m\u001b[0m\n\u001b[0m\u001b[0;32m      6\u001b[0m \u001b[0mmfccs\u001b[0m \u001b[1;33m=\u001b[0m \u001b[0mlibrosa\u001b[0m\u001b[1;33m.\u001b[0m\u001b[0mfeature\u001b[0m\u001b[1;33m.\u001b[0m\u001b[0mmfcc\u001b[0m\u001b[1;33m(\u001b[0m\u001b[0my\u001b[0m\u001b[1;33m=\u001b[0m\u001b[0my\u001b[0m\u001b[1;33m,\u001b[0m \u001b[0msr\u001b[0m\u001b[1;33m=\u001b[0m\u001b[0msr\u001b[0m\u001b[1;33m,\u001b[0m \u001b[0mn_mfcc\u001b[0m\u001b[1;33m=\u001b[0m\u001b[1;36m40\u001b[0m\u001b[1;33m)\u001b[0m\u001b[1;33m\u001b[0m\u001b[1;33m\u001b[0m\u001b[0m\n\u001b[0;32m      7\u001b[0m \u001b[0mlibrosa\u001b[0m\u001b[1;33m.\u001b[0m\u001b[0mdisplay\u001b[0m\u001b[1;33m.\u001b[0m\u001b[0mspecshow\u001b[0m\u001b[1;33m(\u001b[0m\u001b[0mmfccs\u001b[0m\u001b[1;33m,\u001b[0m \u001b[0mx_axis\u001b[0m\u001b[1;33m=\u001b[0m\u001b[1;34m'time'\u001b[0m\u001b[1;33m,\u001b[0m \u001b[0my_axis\u001b[0m\u001b[1;33m=\u001b[0m\u001b[1;34m'log'\u001b[0m\u001b[1;33m)\u001b[0m\u001b[1;33m\u001b[0m\u001b[1;33m\u001b[0m\u001b[0m\n",
      "\u001b[1;31mNameError\u001b[0m: name 'audio_files_a' is not defined"
     ]
    },
    {
     "data": {
      "image/png": "[encoded data removed]",
      "text/plain": [
       "<Figure size 1440x576 with 1 Axes>"
      ]
     },
     "metadata": {
      "needs_background": "light"
     },
     "output_type": "display_data"
    }
   ],
   "source": [
    "# MFCCs\n",
    "# librosa mfcc plot -- set-a\n",
    "plt.figure(figsize=(20, 8))\n",
    "\n",
    "plt.subplot(3, 1, 1)\n",
    "y, sr = librosa.load(audio_files_a[9])\n",
    "mfccs = librosa.feature.mfcc(y=y, sr=sr, n_mfcc=40)\n",
    "librosa.display.specshow(mfccs, x_axis='time', y_axis='log')\n",
    "plt.colorbar()\n",
    "plt.title('Normal Heart (MFCCs)')\n",
    "\n",
    "plt.subplot(3, 1, 2)\n",
    "y, sr = librosa.load(audio_files_a[10])\n",
    "mfccs = librosa.feature.mfcc(y=y, sr=sr, n_mfcc=40)\n",
    "librosa.display.specshow(mfccs, x_axis='time', y_axis='log')\n",
    "plt.colorbar()\n",
    "plt.title('Abormal Heart (MFCCs)')\n",
    "\n",
    "plt.subplot(3, 1, 3)\n",
    "y, sr = librosa.load(audio_files_artifacts[3])\n",
    "mfccs = librosa.feature.mfcc(y=y, sr=sr, n_mfcc=40)\n",
    "librosa.display.specshow(mfccs, x_axis='time', y_axis='log')\n",
    "plt.colorbar()\n",
    "plt.title('Artifact (MFCCs)')\n",
    "\n",
    "plt.tight_layout()\n",
    "plt.show()"
   ]
  },
  {
   "cell_type": "code",
   "execution_count": 42,
   "metadata": {},
   "outputs": [
    {
     "data": {
      "text/html": [
       "<div>\n",
       "<style scoped>\n",
       "    .dataframe tbody tr th:only-of-type {\n",
       "        vertical-align: middle;\n",
       "    }\n",
       "\n",
       "    .dataframe tbody tr th {\n",
       "        vertical-align: top;\n",
       "    }\n",
       "\n",
       "    .dataframe thead th {\n",
       "        text-align: right;\n",
       "    }\n",
       "</style>\n",
       "<table border=\"1\" class=\"dataframe\">\n",
       "  <thead>\n",
       "    <tr style=\"text-align: right;\">\n",
       "      <th></th>\n",
       "      <th>spec_0</th>\n",
       "      <th>spec_1</th>\n",
       "      <th>spec_2</th>\n",
       "      <th>spec_3</th>\n",
       "      <th>spec_4</th>\n",
       "      <th>spec_5</th>\n",
       "      <th>spec_6</th>\n",
       "      <th>spec_7</th>\n",
       "      <th>spec_8</th>\n",
       "      <th>spec_9</th>\n",
       "      <th>...</th>\n",
       "      <th>spec_1015</th>\n",
       "      <th>spec_1016</th>\n",
       "      <th>spec_1017</th>\n",
       "      <th>spec_1018</th>\n",
       "      <th>spec_1019</th>\n",
       "      <th>spec_1020</th>\n",
       "      <th>spec_1021</th>\n",
       "      <th>spec_1022</th>\n",
       "      <th>spec_1023</th>\n",
       "      <th>spec_1024</th>\n",
       "    </tr>\n",
       "  </thead>\n",
       "  <tbody>\n",
       "    <tr>\n",
       "      <th>0</th>\n",
       "      <td>8.123447</td>\n",
       "      <td>12.025115</td>\n",
       "      <td>11.816886</td>\n",
       "      <td>8.981364</td>\n",
       "      <td>5.779897</td>\n",
       "      <td>4.188724</td>\n",
       "      <td>2.528362</td>\n",
       "      <td>-0.755070</td>\n",
       "      <td>-2.653456</td>\n",
       "      <td>-3.316959</td>\n",
       "      <td>...</td>\n",
       "      <td>-42.535259</td>\n",
       "      <td>-42.535275</td>\n",
       "      <td>-42.535282</td>\n",
       "      <td>-42.535301</td>\n",
       "      <td>-42.535301</td>\n",
       "      <td>-42.535301</td>\n",
       "      <td>-42.535301</td>\n",
       "      <td>-42.535313</td>\n",
       "      <td>-42.535320</td>\n",
       "      <td>-42.535328</td>\n",
       "    </tr>\n",
       "    <tr>\n",
       "      <th>1</th>\n",
       "      <td>5.762590</td>\n",
       "      <td>9.940660</td>\n",
       "      <td>8.972795</td>\n",
       "      <td>5.579129</td>\n",
       "      <td>3.610048</td>\n",
       "      <td>1.060689</td>\n",
       "      <td>-1.936463</td>\n",
       "      <td>-5.274032</td>\n",
       "      <td>-8.373034</td>\n",
       "      <td>-10.520452</td>\n",
       "      <td>...</td>\n",
       "      <td>-41.750599</td>\n",
       "      <td>-41.750626</td>\n",
       "      <td>-41.750622</td>\n",
       "      <td>-41.750664</td>\n",
       "      <td>-41.750664</td>\n",
       "      <td>-41.750664</td>\n",
       "      <td>-41.750656</td>\n",
       "      <td>-41.750668</td>\n",
       "      <td>-41.750694</td>\n",
       "      <td>-41.750664</td>\n",
       "    </tr>\n",
       "    <tr>\n",
       "      <th>2</th>\n",
       "      <td>3.959942</td>\n",
       "      <td>6.675737</td>\n",
       "      <td>4.303745</td>\n",
       "      <td>0.144419</td>\n",
       "      <td>-2.258024</td>\n",
       "      <td>-4.340283</td>\n",
       "      <td>-7.488881</td>\n",
       "      <td>-10.965380</td>\n",
       "      <td>-12.695719</td>\n",
       "      <td>-13.499794</td>\n",
       "      <td>...</td>\n",
       "      <td>-46.575901</td>\n",
       "      <td>-46.575901</td>\n",
       "      <td>-46.575893</td>\n",
       "      <td>-46.575893</td>\n",
       "      <td>-46.575909</td>\n",
       "      <td>-46.575916</td>\n",
       "      <td>-46.575909</td>\n",
       "      <td>-46.575897</td>\n",
       "      <td>-46.575886</td>\n",
       "      <td>-46.575882</td>\n",
       "    </tr>\n",
       "    <tr>\n",
       "      <th>3</th>\n",
       "      <td>23.069111</td>\n",
       "      <td>29.050039</td>\n",
       "      <td>26.390932</td>\n",
       "      <td>17.755230</td>\n",
       "      <td>12.274289</td>\n",
       "      <td>6.872453</td>\n",
       "      <td>3.626569</td>\n",
       "      <td>1.385379</td>\n",
       "      <td>-0.608749</td>\n",
       "      <td>-2.251781</td>\n",
       "      <td>...</td>\n",
       "      <td>-25.977005</td>\n",
       "      <td>-25.977005</td>\n",
       "      <td>-25.977015</td>\n",
       "      <td>-25.977015</td>\n",
       "      <td>-25.977022</td>\n",
       "      <td>-25.977024</td>\n",
       "      <td>-25.977024</td>\n",
       "      <td>-25.977022</td>\n",
       "      <td>-25.977024</td>\n",
       "      <td>-25.977034</td>\n",
       "    </tr>\n",
       "    <tr>\n",
       "      <th>4</th>\n",
       "      <td>1.839096</td>\n",
       "      <td>3.431329</td>\n",
       "      <td>4.312777</td>\n",
       "      <td>4.521589</td>\n",
       "      <td>3.589658</td>\n",
       "      <td>1.643603</td>\n",
       "      <td>-0.726662</td>\n",
       "      <td>-2.173375</td>\n",
       "      <td>-3.377479</td>\n",
       "      <td>-5.078349</td>\n",
       "      <td>...</td>\n",
       "      <td>-30.126284</td>\n",
       "      <td>-30.126284</td>\n",
       "      <td>-30.126284</td>\n",
       "      <td>-30.126284</td>\n",
       "      <td>-30.126284</td>\n",
       "      <td>-30.126284</td>\n",
       "      <td>-30.126284</td>\n",
       "      <td>-30.126284</td>\n",
       "      <td>-30.126284</td>\n",
       "      <td>-30.126284</td>\n",
       "    </tr>\n",
       "  </tbody>\n",
       "</table>\n",
       "<p>5 rows × 1025 columns</p>\n",
       "</div>"
      ],
      "text/plain": [
       "      spec_0     spec_1     spec_2     spec_3     spec_4    spec_5    spec_6  \\\n",
       "0   8.123447  12.025115  11.816886   8.981364   5.779897  4.188724  2.528362   \n",
       "1   5.762590   9.940660   8.972795   5.579129   3.610048  1.060689 -1.936463   \n",
       "2   3.959942   6.675737   4.303745   0.144419  -2.258024 -4.340283 -7.488881   \n",
       "3  23.069111  29.050039  26.390932  17.755230  12.274289  6.872453  3.626569   \n",
       "4   1.839096   3.431329   4.312777   4.521589   3.589658  1.643603 -0.726662   \n",
       "\n",
       "      spec_7     spec_8     spec_9  ...  spec_1015  spec_1016  spec_1017  \\\n",
       "0  -0.755070  -2.653456  -3.316959  ... -42.535259 -42.535275 -42.535282   \n",
       "1  -5.274032  -8.373034 -10.520452  ... -41.750599 -41.750626 -41.750622   \n",
       "2 -10.965380 -12.695719 -13.499794  ... -46.575901 -46.575901 -46.575893   \n",
       "3   1.385379  -0.608749  -2.251781  ... -25.977005 -25.977005 -25.977015   \n",
       "4  -2.173375  -3.377479  -5.078349  ... -30.126284 -30.126284 -30.126284   \n",
       "\n",
       "   spec_1018  spec_1019  spec_1020  spec_1021  spec_1022  spec_1023  spec_1024  \n",
       "0 -42.535301 -42.535301 -42.535301 -42.535301 -42.535313 -42.535320 -42.535328  \n",
       "1 -41.750664 -41.750664 -41.750664 -41.750656 -41.750668 -41.750694 -41.750664  \n",
       "2 -46.575893 -46.575909 -46.575916 -46.575909 -46.575897 -46.575886 -46.575882  \n",
       "3 -25.977015 -25.977022 -25.977024 -25.977024 -25.977022 -25.977024 -25.977034  \n",
       "4 -30.126284 -30.126284 -30.126284 -30.126284 -30.126284 -30.126284 -30.126284  \n",
       "\n",
       "[5 rows x 1025 columns]"
      ]
     },
     "execution_count": 42,
     "metadata": {},
     "output_type": "execute_result"
    }
   ],
   "source": [
    "#spread out spec data for input into models\n",
    "mean_spec = final['spec'].apply(pd.Series)\n",
    "mean_spec = mean_spec.rename(columns = lambda x : 'spec_' + str(x))\n",
    "mean_spec.head()"
   ]
  },
  {
   "cell_type": "code",
   "execution_count": 46,
   "metadata": {},
   "outputs": [
    {
     "name": "stderr",
     "output_type": "stream",
     "text": [
      "C:\\Users\\mike1\\Anaconda3\\lib\\site-packages\\sklearn\\preprocessing\\data.py:645: DataConversionWarning: Data with input dtype float32 were all converted to float64 by StandardScaler.\n",
      "  return self.partial_fit(X, y)\n",
      "C:\\Users\\mike1\\Anaconda3\\lib\\site-packages\\sklearn\\base.py:464: DataConversionWarning: Data with input dtype float32 were all converted to float64 by StandardScaler.\n",
      "  return self.fit(X, **fit_params).transform(X)\n",
      "C:\\Users\\mike1\\Anaconda3\\lib\\site-packages\\sklearn\\model_selection\\_split.py:2179: FutureWarning: From version 0.21, test_size will always complement train_size unless both are specified.\n",
      "  FutureWarning)\n"
     ]
    }
   ],
   "source": [
    "from sklearn.preprocessing import StandardScaler\n",
    "X = mean_spec\n",
    "target = final['Diagnosis']\n",
    "X = StandardScaler().fit_transform(X)\n",
    "X_train, X_test, y_train, y_test = train_test_split(X, target, train_size = 0.75)"
   ]
  },
  {
   "cell_type": "code",
   "execution_count": 48,
   "metadata": {},
   "outputs": [
    {
     "name": "stdout",
     "output_type": "stream",
     "text": [
      "0.9043478260869565\n",
      "[[  0   0   0   0   0   0   0]\n",
      " [  0   2   0   0   0   0   0]\n",
      " [  0   0   0   2   3   0   0]\n",
      " [  0   0   0 197   1   1   0]\n",
      " [  0   0   2   3   5   1   0]\n",
      " [  0   0   0   4   0   4   0]\n",
      " [  1   0   0   4   0   0   0]]\n"
     ]
    },
    {
     "name": "stderr",
     "output_type": "stream",
     "text": [
      "C:\\Users\\mike1\\Anaconda3\\lib\\site-packages\\sklearn\\model_selection\\_split.py:652: Warning: The least populated class in y has only 1 members, which is too few. The minimum number of members in any class cannot be less than n_splits=5.\n",
      "  % (min_groups, self.n_splits)), Warning)\n"
     ]
    },
    {
     "name": "stdout",
     "output_type": "stream",
     "text": [
      "[0.81382979 0.86021505 0.9076087  0.90607735 0.80110497]\n"
     ]
    }
   ],
   "source": [
    "# Logistic Regression Model - spectrogram\n",
    "from sklearn.linear_model import LogisticRegression\n",
    "\n",
    "lr = LogisticRegression(penalty='l2', dual=False, tol=0.0001, C=1.0, fit_intercept=True, intercept_scaling=1, class_weight=None, random_state=None, solver='newton-cg', max_iter=100, multi_class='auto', verbose=0, warm_start=False, n_jobs=None)\n",
    "lr.fit(X_train, y_train)\n",
    "y_pred = lr.predict(X_test)\n",
    "\n",
    "print(accuracy_score(y_test, y_pred))\n",
    "print(confusion_matrix(y_test, y_pred))\n",
    "print(cross_val_score(lr, X, target, cv = 5))"
   ]
  },
  {
   "cell_type": "code",
   "execution_count": 49,
   "metadata": {},
   "outputs": [
    {
     "name": "stdout",
     "output_type": "stream",
     "text": [
      "0.8652173913043478\n",
      "[[  0   0   0   0   0   0   0]\n",
      " [  0   0   0   2   0   0   0]\n",
      " [  1   1   0   2   0   0   1]\n",
      " [  0   0   0 199   0   0   0]\n",
      " [  0   1   1   7   0   1   1]\n",
      " [  0   0   0   8   0   0   0]\n",
      " [  0   0   0   5   0   0   0]]\n"
     ]
    },
    {
     "name": "stderr",
     "output_type": "stream",
     "text": [
      "C:\\Users\\mike1\\Anaconda3\\lib\\site-packages\\sklearn\\model_selection\\_split.py:652: Warning: The least populated class in y has only 1 members, which is too few. The minimum number of members in any class cannot be less than n_splits=5.\n",
      "  % (min_groups, self.n_splits)), Warning)\n"
     ]
    },
    {
     "name": "stdout",
     "output_type": "stream",
     "text": [
      "[0.81382979 0.75268817 0.875      0.82872928 0.80110497]\n"
     ]
    }
   ],
   "source": [
    "# KNN model - spectrogram\n",
    "from sklearn.neighbors import KNeighborsClassifier\n",
    "\n",
    "neighbors = KNeighborsClassifier(n_neighbors=5, weights='uniform', algorithm='auto', leaf_size=30, p=2, metric='minkowski', metric_params=None, n_jobs=None)\n",
    "neighbors.fit(X_train, y_train)\n",
    "y_pred = neighbors.predict(X_test)\n",
    "\n",
    "print(accuracy_score(y_test, y_pred))\n",
    "print(confusion_matrix(y_test, y_pred))\n",
    "print(cross_val_score(neighbors, X, target, cv = 5))"
   ]
  },
  {
   "cell_type": "code",
   "execution_count": 50,
   "metadata": {},
   "outputs": [
    {
     "name": "stdout",
     "output_type": "stream",
     "text": [
      "0.8434782608695652\n",
      "[[  1   0   1   0   0   0]\n",
      " [  1   0   4   0   0   0]\n",
      " [  2   0 191   3   0   3]\n",
      " [  0   1   6   0   2   2]\n",
      " [  0   0   6   0   2   0]\n",
      " [  0   0   5   0   0   0]]\n"
     ]
    },
    {
     "name": "stderr",
     "output_type": "stream",
     "text": [
      "C:\\Users\\mike1\\Anaconda3\\lib\\site-packages\\sklearn\\model_selection\\_split.py:652: Warning: The least populated class in y has only 1 members, which is too few. The minimum number of members in any class cannot be less than n_splits=5.\n",
      "  % (min_groups, self.n_splits)), Warning)\n"
     ]
    },
    {
     "name": "stdout",
     "output_type": "stream",
     "text": [
      "[0.84042553 0.80645161 0.88586957 0.86187845 0.85635359]\n"
     ]
    }
   ],
   "source": [
    "# Random Forest Model - spectrogram\n",
    "from sklearn import ensemble\n",
    "\n",
    "rfc = ensemble.RandomForestClassifier(n_estimators=150, criterion='gini', max_depth=None, min_samples_split=2, min_samples_leaf=1, min_weight_fraction_leaf=0.0, max_features='auto', max_leaf_nodes=None, min_impurity_decrease=0.0, min_impurity_split=None, bootstrap=True, oob_score=False, n_jobs=None, random_state=None, verbose=0, warm_start=False, class_weight='balanced')\n",
    "rfc.fit(X_train, y_train)\n",
    "y_pred = rfc.predict(X_test)\n",
    "\n",
    "print(accuracy_score(y_test, y_pred))\n",
    "print(confusion_matrix(y_test, y_pred))\n",
    "print(cross_val_score(rfc, X, target, cv = 5))"
   ]
  },
  {
   "cell_type": "code",
   "execution_count": 51,
   "metadata": {},
   "outputs": [
    {
     "name": "stdout",
     "output_type": "stream",
     "text": [
      "0.9\n",
      "[[  1   0   1   0   0   0]\n",
      " [  1   0   4   0   0   0]\n",
      " [  2   0 191   3   0   3]\n",
      " [  0   1   6   0   2   2]\n",
      " [  0   0   6   0   2   0]\n",
      " [  0   0   5   0   0   0]]\n"
     ]
    },
    {
     "name": "stderr",
     "output_type": "stream",
     "text": [
      "C:\\Users\\mike1\\Anaconda3\\lib\\site-packages\\sklearn\\model_selection\\_split.py:652: Warning: The least populated class in y has only 1 members, which is too few. The minimum number of members in any class cannot be less than n_splits=5.\n",
      "  % (min_groups, self.n_splits)), Warning)\n"
     ]
    },
    {
     "name": "stdout",
     "output_type": "stream",
     "text": [
      "[0.84042553 0.84408602 0.90217391 0.85635359 0.83977901]\n"
     ]
    }
   ],
   "source": [
    "# Gradient Boosting Model -- spectrogram\n",
    "gb = ensemble.GradientBoostingClassifier(loss='deviance', learning_rate=0.1, n_estimators=100, subsample=1.0, criterion='friedman_mse', min_samples_split=2, min_samples_leaf=1, min_weight_fraction_leaf=0.0, max_depth=3, min_impurity_decrease=0.0, min_impurity_split=None, init=None, random_state=None, max_features='auto', verbose=0, max_leaf_nodes=None, warm_start=False, presort='auto', validation_fraction=0.1, n_iter_no_change=None, tol=0.0001)\n",
    "gb.fit(X_train, y_train)\n",
    "\n",
    "print(accuracy_score(y_test, gb.predict(X_test)))\n",
    "print(confusion_matrix(y_test, y_pred))\n",
    "print(cross_val_score(gb, X, target, cv = 5))"
   ]
  },
  {
   "cell_type": "code",
   "execution_count": 52,
   "metadata": {},
   "outputs": [
    {
     "data": {
      "text/html": [
       "<div>\n",
       "<style scoped>\n",
       "    .dataframe tbody tr th:only-of-type {\n",
       "        vertical-align: middle;\n",
       "    }\n",
       "\n",
       "    .dataframe tbody tr th {\n",
       "        vertical-align: top;\n",
       "    }\n",
       "\n",
       "    .dataframe thead th {\n",
       "        text-align: right;\n",
       "    }\n",
       "</style>\n",
       "<table border=\"1\" class=\"dataframe\">\n",
       "  <thead>\n",
       "    <tr style=\"text-align: right;\">\n",
       "      <th></th>\n",
       "      <th>mean_mfcc_0</th>\n",
       "      <th>mean_mfcc_1</th>\n",
       "      <th>mean_mfcc_2</th>\n",
       "      <th>mean_mfcc_3</th>\n",
       "      <th>mean_mfcc_4</th>\n",
       "      <th>mean_mfcc_5</th>\n",
       "      <th>mean_mfcc_6</th>\n",
       "      <th>mean_mfcc_7</th>\n",
       "      <th>mean_mfcc_8</th>\n",
       "      <th>mean_mfcc_9</th>\n",
       "      <th>...</th>\n",
       "      <th>mean_mfcc_30</th>\n",
       "      <th>mean_mfcc_31</th>\n",
       "      <th>mean_mfcc_32</th>\n",
       "      <th>mean_mfcc_33</th>\n",
       "      <th>mean_mfcc_34</th>\n",
       "      <th>mean_mfcc_35</th>\n",
       "      <th>mean_mfcc_36</th>\n",
       "      <th>mean_mfcc_37</th>\n",
       "      <th>mean_mfcc_38</th>\n",
       "      <th>mean_mfcc_39</th>\n",
       "    </tr>\n",
       "  </thead>\n",
       "  <tbody>\n",
       "    <tr>\n",
       "      <th>0</th>\n",
       "      <td>-515.678284</td>\n",
       "      <td>113.958366</td>\n",
       "      <td>71.159416</td>\n",
       "      <td>42.378330</td>\n",
       "      <td>33.491215</td>\n",
       "      <td>28.343691</td>\n",
       "      <td>20.493902</td>\n",
       "      <td>16.771233</td>\n",
       "      <td>18.421787</td>\n",
       "      <td>16.688015</td>\n",
       "      <td>...</td>\n",
       "      <td>1.085946</td>\n",
       "      <td>1.420841</td>\n",
       "      <td>1.723369</td>\n",
       "      <td>1.759100</td>\n",
       "      <td>1.764396</td>\n",
       "      <td>1.900784</td>\n",
       "      <td>2.010527</td>\n",
       "      <td>1.875236</td>\n",
       "      <td>1.505518</td>\n",
       "      <td>1.274461</td>\n",
       "    </tr>\n",
       "    <tr>\n",
       "      <th>1</th>\n",
       "      <td>-572.695801</td>\n",
       "      <td>103.284943</td>\n",
       "      <td>56.087303</td>\n",
       "      <td>30.842743</td>\n",
       "      <td>33.551819</td>\n",
       "      <td>37.284496</td>\n",
       "      <td>28.702307</td>\n",
       "      <td>19.017298</td>\n",
       "      <td>16.912680</td>\n",
       "      <td>15.512327</td>\n",
       "      <td>...</td>\n",
       "      <td>1.518936</td>\n",
       "      <td>2.742966</td>\n",
       "      <td>3.569757</td>\n",
       "      <td>3.054491</td>\n",
       "      <td>2.110286</td>\n",
       "      <td>2.256540</td>\n",
       "      <td>3.312136</td>\n",
       "      <td>3.682358</td>\n",
       "      <td>2.659006</td>\n",
       "      <td>1.143951</td>\n",
       "    </tr>\n",
       "    <tr>\n",
       "      <th>2</th>\n",
       "      <td>-580.974670</td>\n",
       "      <td>121.591965</td>\n",
       "      <td>56.966473</td>\n",
       "      <td>25.959740</td>\n",
       "      <td>34.997261</td>\n",
       "      <td>43.360134</td>\n",
       "      <td>28.370544</td>\n",
       "      <td>6.880596</td>\n",
       "      <td>-0.109614</td>\n",
       "      <td>5.383647</td>\n",
       "      <td>...</td>\n",
       "      <td>3.356558</td>\n",
       "      <td>2.354979</td>\n",
       "      <td>1.213654</td>\n",
       "      <td>2.023259</td>\n",
       "      <td>3.549309</td>\n",
       "      <td>3.411893</td>\n",
       "      <td>2.199108</td>\n",
       "      <td>2.197356</td>\n",
       "      <td>3.192662</td>\n",
       "      <td>3.001633</td>\n",
       "    </tr>\n",
       "    <tr>\n",
       "      <th>3</th>\n",
       "      <td>-408.962036</td>\n",
       "      <td>71.442039</td>\n",
       "      <td>48.838448</td>\n",
       "      <td>34.060986</td>\n",
       "      <td>30.043154</td>\n",
       "      <td>26.994886</td>\n",
       "      <td>21.588650</td>\n",
       "      <td>17.744015</td>\n",
       "      <td>16.413185</td>\n",
       "      <td>14.409512</td>\n",
       "      <td>...</td>\n",
       "      <td>4.353942</td>\n",
       "      <td>3.911645</td>\n",
       "      <td>3.508018</td>\n",
       "      <td>2.967844</td>\n",
       "      <td>2.514060</td>\n",
       "      <td>2.373760</td>\n",
       "      <td>2.389124</td>\n",
       "      <td>2.494671</td>\n",
       "      <td>2.924427</td>\n",
       "      <td>3.568199</td>\n",
       "    </tr>\n",
       "    <tr>\n",
       "      <th>4</th>\n",
       "      <td>-436.719177</td>\n",
       "      <td>116.142838</td>\n",
       "      <td>77.762695</td>\n",
       "      <td>38.060440</td>\n",
       "      <td>12.855058</td>\n",
       "      <td>4.526144</td>\n",
       "      <td>6.410844</td>\n",
       "      <td>11.374701</td>\n",
       "      <td>15.793918</td>\n",
       "      <td>18.486288</td>\n",
       "      <td>...</td>\n",
       "      <td>2.650678</td>\n",
       "      <td>3.115096</td>\n",
       "      <td>3.483489</td>\n",
       "      <td>3.912178</td>\n",
       "      <td>4.325048</td>\n",
       "      <td>4.441020</td>\n",
       "      <td>4.091199</td>\n",
       "      <td>3.439331</td>\n",
       "      <td>2.799393</td>\n",
       "      <td>2.289464</td>\n",
       "    </tr>\n",
       "  </tbody>\n",
       "</table>\n",
       "<p>5 rows × 40 columns</p>\n",
       "</div>"
      ],
      "text/plain": [
       "   mean_mfcc_0  mean_mfcc_1  mean_mfcc_2  mean_mfcc_3  mean_mfcc_4  \\\n",
       "0  -515.678284   113.958366    71.159416    42.378330    33.491215   \n",
       "1  -572.695801   103.284943    56.087303    30.842743    33.551819   \n",
       "2  -580.974670   121.591965    56.966473    25.959740    34.997261   \n",
       "3  -408.962036    71.442039    48.838448    34.060986    30.043154   \n",
       "4  -436.719177   116.142838    77.762695    38.060440    12.855058   \n",
       "\n",
       "   mean_mfcc_5  mean_mfcc_6  mean_mfcc_7  mean_mfcc_8  mean_mfcc_9  ...  \\\n",
       "0    28.343691    20.493902    16.771233    18.421787    16.688015  ...   \n",
       "1    37.284496    28.702307    19.017298    16.912680    15.512327  ...   \n",
       "2    43.360134    28.370544     6.880596    -0.109614     5.383647  ...   \n",
       "3    26.994886    21.588650    17.744015    16.413185    14.409512  ...   \n",
       "4     4.526144     6.410844    11.374701    15.793918    18.486288  ...   \n",
       "\n",
       "   mean_mfcc_30  mean_mfcc_31  mean_mfcc_32  mean_mfcc_33  mean_mfcc_34  \\\n",
       "0      1.085946      1.420841      1.723369      1.759100      1.764396   \n",
       "1      1.518936      2.742966      3.569757      3.054491      2.110286   \n",
       "2      3.356558      2.354979      1.213654      2.023259      3.549309   \n",
       "3      4.353942      3.911645      3.508018      2.967844      2.514060   \n",
       "4      2.650678      3.115096      3.483489      3.912178      4.325048   \n",
       "\n",
       "   mean_mfcc_35  mean_mfcc_36  mean_mfcc_37  mean_mfcc_38  mean_mfcc_39  \n",
       "0      1.900784      2.010527      1.875236      1.505518      1.274461  \n",
       "1      2.256540      3.312136      3.682358      2.659006      1.143951  \n",
       "2      3.411893      2.199108      2.197356      3.192662      3.001633  \n",
       "3      2.373760      2.389124      2.494671      2.924427      3.568199  \n",
       "4      4.441020      4.091199      3.439331      2.799393      2.289464  \n",
       "\n",
       "[5 rows x 40 columns]"
      ]
     },
     "execution_count": 52,
     "metadata": {},
     "output_type": "execute_result"
    }
   ],
   "source": [
    "#spread out mfcc data for input into models\n",
    "mean_mfcc = final['mfccs_flat'].apply(pd.Series)\n",
    "mean_mfcc = mean_mfcc.rename(columns = lambda x : 'mean_mfcc_' + str(x))\n",
    "mean_mfcc.head()"
   ]
  },
  {
   "cell_type": "code",
   "execution_count": 53,
   "metadata": {},
   "outputs": [
    {
     "name": "stderr",
     "output_type": "stream",
     "text": [
      "C:\\Users\\mike1\\Anaconda3\\lib\\site-packages\\sklearn\\preprocessing\\data.py:645: DataConversionWarning: Data with input dtype float32 were all converted to float64 by StandardScaler.\n",
      "  return self.partial_fit(X, y)\n",
      "C:\\Users\\mike1\\Anaconda3\\lib\\site-packages\\sklearn\\base.py:464: DataConversionWarning: Data with input dtype float32 were all converted to float64 by StandardScaler.\n",
      "  return self.fit(X, **fit_params).transform(X)\n",
      "C:\\Users\\mike1\\Anaconda3\\lib\\site-packages\\sklearn\\model_selection\\_split.py:2179: FutureWarning: From version 0.21, test_size will always complement train_size unless both are specified.\n",
      "  FutureWarning)\n"
     ]
    }
   ],
   "source": [
    "X = mean_mfcc\n",
    "target = final['Diagnosis']\n",
    "X = StandardScaler().fit_transform(X)\n",
    "X_train, X_test, y_train, y_test = train_test_split(X, target, train_size = 0.75)"
   ]
  },
  {
   "cell_type": "code",
   "execution_count": null,
   "metadata": {},
   "outputs": [],
   "source": []
  },
  {
   "cell_type": "code",
   "execution_count": null,
   "metadata": {},
   "outputs": [],
   "source": []
  },
  {
   "cell_type": "code",
   "execution_count": null,
   "metadata": {},
   "outputs": [],
   "source": []
  },
  {
   "cell_type": "code",
   "execution_count": null,
   "metadata": {},
   "outputs": [],
   "source": []
  }
 ],
 "metadata": {
  "kernelspec": {
   "display_name": "Python 3",
   "language": "python",
   "name": "python3"
  },
  "language_info": {
   "codemirror_mode": {
    "name": "ipython",
    "version": 3
   },
   "file_extension": ".py",
   "mimetype": "text/x-python",
   "name": "python",
   "nbconvert_exporter": "python",
   "pygments_lexer": "ipython3",
   "version": "3.7.3"
  }
 },
 "nbformat": 4,
 "nbformat_minor": 2
}
